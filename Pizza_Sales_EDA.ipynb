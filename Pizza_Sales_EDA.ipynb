{
 "cells": [
  {
   "cell_type": "markdown",
   "id": "5c349d21",
   "metadata": {},
   "source": [
    "#### Pizza Delivery Analysis\n",
    "\n",
    "This repository presents an Exploratory Data Analysis (EDA) of a pizza delivery dataset. The dataset contains comprehensive information on individual pizza orders, including delivery times, distances, payment methods, pizza characteristics, and external factors like traffic and peak hours.\n",
    "\n",
    "The workflow of this notebook includes:\n",
    "\n",
    "1. Data import and exploration\n",
    "2. Data cleaning and preparation\n",
    "3. Exploratory Data Analysis (EDA)\n",
    "4. Preparation for visualization and reporting (e.g., Tableau)\n",
    "\n",
    "> Tools used: Python (Pandas, NumPy, Matplotlib/Seaborn), Tableau"
   ]
  }
 ],
 "metadata": {
  "language_info": {
   "name": "python"
  }
 },
 "nbformat": 4,
 "nbformat_minor": 5
}
